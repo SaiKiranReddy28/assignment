{
  "nbformat": 4,
  "nbformat_minor": 0,
  "metadata": {
    "colab": {
      "provenance": [],
      "collapsed_sections": []
    },
    "kernelspec": {
      "name": "python3",
      "display_name": "Python 3"
    },
    "language_info": {
      "name": "python"
    },
    "gpuClass": "standard"
  },
  "cells": [
    {
      "cell_type": "code",
      "execution_count": 36,
      "metadata": {
        "id": "lFxxxmI0HFCM"
      },
      "outputs": [],
      "source": [
        "import numpy as np\n",
        "from scipy.integrate import odeint\n",
        "import matplotlib.pyplot as plt"
      ]
    },
    {
      "cell_type": "code",
      "source": [
        "def model(p0,t):\n",
        "  a=10\n",
        "  b=28\n",
        "  c=2.667\n",
        "  x=p0[0]\n",
        "  y=p0[1]\n",
        "  z=p0[2]\n",
        "  dxdt=a*(y-b)\n",
        "  dydt=(b*x)-y-(x*z)\n",
        "  dzdt=(x*y)-(c*z)\n",
        "  return [dxdt,dydt,dzdt]"
      ],
      "metadata": {
        "id": "47IdjC0tINht"
      },
      "execution_count": 47,
      "outputs": []
    },
    {
      "cell_type": "code",
      "source": [
        "x0=0\n",
        "y0=1\n",
        "z0=1.05\n",
        "p0=[x0,y0,z0]\n",
        "n=50\n",
        "t=np.linspace(0,50,n)\n",
        "#p0=[0,0]\n",
        "#print(model(p0,0))\n",
        "x=np.zeros(n)\n",
        "y=np.zeros(n)\n",
        "z=np.zeros(n)\n",
        "x[0]=p0[0]\n",
        "y[0]=p0[1]\n",
        "z[0]=p0[2]\n",
        "#print(x,y,z)\n",
        "for i in range(1,n):\n",
        "  tspan=[t[i-1],t[i]]\n",
        "  p=odeint(model,p0,tspan)\n",
        "  x[i]=p[1][0]\n",
        "  y[i]=p[1][1]\n",
        "  z[i]=p[1][2]\n",
        "  p0=p[1]\n"
      ],
      "metadata": {
        "colab": {
          "base_uri": "https://localhost:8080/"
        },
        "id": "Y4Vv9fCDZfS_",
        "outputId": "6c1fa88e-894c-4c10-dad0-d80199b61d1c"
      },
      "execution_count": 83,
      "outputs": [
        {
          "output_type": "stream",
          "name": "stderr",
          "text": [
            "/usr/local/lib/python3.7/dist-packages/scipy/integrate/odepack.py:247: ODEintWarning: Excess work done on this call (perhaps wrong Dfun type). Run with full_output = 1 to get quantitative information.\n",
            "  warnings.warn(warning_msg, ODEintWarning)\n"
          ]
        }
      ]
    },
    {
      "cell_type": "code",
      "source": [
        "plt.plot(t,x,\"r:\",label=\"x(t)\")\n",
        "plt.plot(t,y,\"b-\",label=\"y(t)\")\n",
        "plt.plot(t,z,\"g--\",label=\"z(t)\")\n",
        "plt.xlabel(\"time\")\n",
        "plt.ylabel(\"values\")\n",
        "plt.legend(loc=\"best\")\n",
        "plt.show()"
      ],
      "metadata": {
        "colab": {
          "base_uri": "https://localhost:8080/",
          "height": 279
        },
        "id": "omr0gpxVQU95",
        "outputId": "48efb597-af23-46aa-f054-b603f8484320"
      },
      "execution_count": 84,
      "outputs": [
        {
          "output_type": "display_data",
          "data": {
            "text/plain": [
              "<Figure size 432x288 with 1 Axes>"
            ],
            "image/png": "[encoded data removed]"
          },
          "metadata": {
            "needs_background": "light"
          }
        }
      ]
    },
    {
      "cell_type": "code",
      "source": [
        "print(x,y,z)"
      ],
      "metadata": {
        "colab": {
          "base_uri": "https://localhost:8080/"
        },
        "id": "5OMaNxzKXmum",
        "outputId": "0d42337f-bb84-4228-fc39-b8f138698e5b"
      },
      "execution_count": 81,
      "outputs": [
        {
          "output_type": "stream",
          "name": "stdout",
          "text": [
            "[    0.          -129.98721119  -207.97519792  -266.99262028\n",
            "  -315.83866935  -354.333698    -386.83842578  -410.00709504\n",
            "  -437.46654191  -462.42623409  -485.02931524  -504.28065265\n",
            "  -523.27973247  -541.24059301  -558.78376979  -575.73386723\n",
            "  -592.59874198  -609.3565318   -626.50667696  -649.0112867\n",
            "  -664.65462815  -680.28359811  -695.55527536  -711.30707069\n",
            "  -726.00526366  -742.49105656  -757.44074287  -772.2822037\n",
            "  -787.17494219  -802.15306728  -816.97701101  -831.64744817\n",
            "  -845.88787442  -860.20195847  -874.5251339   -890.50010296\n",
            "  -905.3163873   -919.855397    -934.69545351  -949.50182979\n",
            "  -963.7654043   -979.53953321  -993.69790842 -1007.82327119\n",
            " -1023.31356858 -1038.02400919 -1052.6501797  -1067.95787824\n",
            " -1083.00761062 -1097.3285398 ] [ 1.00000000e+00 -8.37280964e+00  5.16354329e+00  5.71399951e+00\n",
            "  4.17635500e+00 -1.12546673e+00  2.24858736e+00 -8.82116755e-01\n",
            "  9.80543337e-01  2.41589824e-01 -2.75807541e-01 -1.01635897e+00\n",
            "  4.46392004e-01 -1.07854634e+00  7.65480480e-01 -9.23781915e-01\n",
            "  5.82355009e-01 -1.91526822e-01 -1.87087283e-01  1.98836276e-01\n",
            " -3.23410770e-01 -4.02060709e-01 -4.41112938e-01  8.84579452e-02\n",
            "  4.34087356e-02 -2.09686996e-01  1.43820654e-01 -3.17961981e-01\n",
            "  1.02152352e-01 -5.06547806e-02 -2.36135479e-01 -2.32027149e-01\n",
            " -5.08794206e-02  2.89890760e-03 -2.67378728e-02 -2.50728979e-02\n",
            " -1.15473185e-01 -6.19452963e-02 -1.84994392e-03 -1.64992556e-02\n",
            " -1.14346466e-01 -1.08268299e-01 -7.88503509e-02 -8.16318519e-02\n",
            " -5.76621009e-02 -6.23719677e-02 -1.05865588e-01 -8.75254383e-02\n",
            " -5.34935937e-02 -7.80611102e-02] [ 1.05       40.48951373 21.07523565 28.84159333 27.99104306 24.69018478\n",
            " 26.65846142 25.71187181 29.63788298 26.34466873 26.53509451 28.96525989\n",
            " 27.01578781 28.39543212 27.86060572 27.81958612 27.82339099 28.65068877\n",
            " 28.58117807 28.39547705 28.40473256 28.29076045 28.16691716 28.27515733\n",
            " 28.26833544 28.25208415 27.94222502 27.95353568 27.94240557 28.18105473\n",
            " 28.08717302 27.94237972 27.86512533 27.90941026 27.8997873  27.91346084\n",
            " 28.08892866 27.91581039 27.99341369 28.03439943 28.05322131 27.95111841\n",
            " 27.94682278 27.9519844  27.95881376 28.03863136 27.99038542 28.0276039\n",
            " 28.02529385 28.02507814]\n"
          ]
        }
      ]
    }
  ]
}